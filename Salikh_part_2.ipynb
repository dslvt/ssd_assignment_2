{
 "cells": [
  {
   "cell_type": "code",
   "execution_count": 1,
   "id": "d81fa01d",
   "metadata": {},
   "outputs": [],
   "source": [
    "import numpy as np\n",
    "import pandas as pd\n",
    "pd.set_option(\"display.max_columns\", 500)\n",
    "\n",
    "import glob, sys, os\n",
    "from tqdm import tqdm \n",
    "from datetime import datetime\n",
    "import requests\n",
    "from io import StringIO\n",
    "\n",
    "from sklearn.model_selection import train_test_split, GridSearchCV, RepeatedStratifiedKFold\n",
    "\n",
    "import pandas_profiling\n",
    "from sklearn.preprocessing import StandardScaler\n",
    "\n",
    "from sklearn.linear_model import LogisticRegression\n",
    "\n",
    "from catboost import CatBoostClassifier\n",
    "from sklearn.ensemble import RandomForestClassifier\n",
    "from xgboost import XGBClassifier\n",
    "from lightgbm import LGBMClassifier \n",
    "\n",
    "from category_encoders import OneHotEncoder\n",
    "from sklearn.impute import SimpleImputer\n",
    "\n",
    "from sklearn.metrics import roc_auc_score, accuracy_score, precision_score, \\\n",
    "                            recall_score, classification_report, plot_confusion_matrix\n",
    "import matplotlib\n",
    "%matplotlib inline\n",
    "\n",
    "import matplotlib.pyplot as plt\n",
    "import seaborn as sns\n",
    "\n",
    "# turn off all Anacondas warnings)\n",
    "import warnings\n",
    "warnings.filterwarnings('ignore')"
   ]
  },
  {
   "cell_type": "code",
   "execution_count": 2,
   "id": "01e6d176",
   "metadata": {},
   "outputs": [
    {
     "name": "stderr",
     "output_type": "stream",
     "text": [
      "\r",
      "  0%|                                                    | 0/30 [00:00<?, ?it/s]"
     ]
    },
    {
     "name": "stdout",
     "output_type": "stream",
     "text": [
      "1 day of September\n"
     ]
    },
    {
     "name": "stderr",
     "output_type": "stream",
     "text": [
      "\r",
      "  3%|█▍                                          | 1/30 [00:00<00:07,  3.66it/s]"
     ]
    },
    {
     "name": "stdout",
     "output_type": "stream",
     "text": [
      "(135339, 8) \n",
      "\n",
      "2 day of September\n"
     ]
    },
    {
     "name": "stderr",
     "output_type": "stream",
     "text": [
      "\r",
      "  7%|██▉                                         | 2/30 [00:00<00:07,  3.99it/s]"
     ]
    },
    {
     "name": "stdout",
     "output_type": "stream",
     "text": [
      "(122031, 8) \n",
      "\n",
      "3 day of September\n"
     ]
    },
    {
     "name": "stderr",
     "output_type": "stream",
     "text": [
      "\r",
      " 10%|████▍                                       | 3/30 [00:00<00:07,  3.77it/s]"
     ]
    },
    {
     "name": "stdout",
     "output_type": "stream",
     "text": [
      "(144019, 8) \n",
      "\n",
      "4 day of September\n"
     ]
    },
    {
     "name": "stderr",
     "output_type": "stream",
     "text": [
      "\r",
      " 13%|█████▊                                      | 4/30 [00:01<00:07,  3.35it/s]"
     ]
    },
    {
     "name": "stdout",
     "output_type": "stream",
     "text": [
      "(185226, 8) \n",
      "\n",
      "5 day of September\n"
     ]
    },
    {
     "name": "stderr",
     "output_type": "stream",
     "text": [
      "\r",
      " 17%|███████▎                                    | 5/30 [00:01<00:06,  3.65it/s]"
     ]
    },
    {
     "name": "stdout",
     "output_type": "stream",
     "text": [
      "(118154, 8) \n",
      "\n",
      "6 day of September\n"
     ]
    },
    {
     "name": "stderr",
     "output_type": "stream",
     "text": [
      "\r",
      " 20%|████████▊                                   | 6/30 [00:01<00:06,  3.76it/s]"
     ]
    },
    {
     "name": "stdout",
     "output_type": "stream",
     "text": [
      "(125199, 8) \n",
      "\n",
      "7 day of September\n"
     ]
    },
    {
     "name": "stderr",
     "output_type": "stream",
     "text": [
      "\r",
      " 23%|██████████▎                                 | 7/30 [00:01<00:06,  3.76it/s]"
     ]
    },
    {
     "name": "stdout",
     "output_type": "stream",
     "text": [
      "(138154, 8) \n",
      "\n",
      "8 day of September\n"
     ]
    },
    {
     "name": "stderr",
     "output_type": "stream",
     "text": [
      "\r",
      " 27%|███████████▋                                | 8/30 [00:02<00:05,  3.74it/s]"
     ]
    },
    {
     "name": "stdout",
     "output_type": "stream",
     "text": [
      "(136663, 8) \n",
      "\n",
      "9 day of September\n"
     ]
    },
    {
     "name": "stderr",
     "output_type": "stream",
     "text": [
      "\r",
      " 30%|█████████████▏                              | 9/30 [00:02<00:05,  4.00it/s]"
     ]
    },
    {
     "name": "stdout",
     "output_type": "stream",
     "text": [
      "(105883, 8) \n",
      "\n",
      "10 day of September\n"
     ]
    },
    {
     "name": "stderr",
     "output_type": "stream",
     "text": [
      "\r",
      " 33%|██████████████▎                            | 10/30 [00:02<00:05,  3.85it/s]"
     ]
    },
    {
     "name": "stdout",
     "output_type": "stream",
     "text": [
      "(146825, 8) \n",
      "\n",
      "11 day of September\n"
     ]
    },
    {
     "name": "stderr",
     "output_type": "stream",
     "text": [
      "\r",
      " 37%|███████████████▊                           | 11/30 [00:02<00:05,  3.55it/s]"
     ]
    },
    {
     "name": "stdout",
     "output_type": "stream",
     "text": [
      "(171252, 8) \n",
      "\n",
      "12 day of September\n"
     ]
    },
    {
     "name": "stderr",
     "output_type": "stream",
     "text": [
      "\r",
      " 40%|█████████████████▏                         | 12/30 [00:03<00:04,  3.77it/s]"
     ]
    },
    {
     "name": "stdout",
     "output_type": "stream",
     "text": [
      "(117449, 8) \n",
      "\n",
      "13 day of September\n",
      "(107330, 8) \n",
      "\n"
     ]
    },
    {
     "name": "stderr",
     "output_type": "stream",
     "text": [
      "\r",
      " 43%|██████████████████▋                        | 13/30 [00:03<00:04,  4.05it/s]"
     ]
    },
    {
     "name": "stdout",
     "output_type": "stream",
     "text": [
      "14 day of September\n"
     ]
    },
    {
     "name": "stderr",
     "output_type": "stream",
     "text": [
      "\r",
      " 47%|████████████████████                       | 14/30 [00:03<00:03,  4.22it/s]"
     ]
    },
    {
     "name": "stdout",
     "output_type": "stream",
     "text": [
      "(113648, 8) \n",
      "\n",
      "15 day of September\n"
     ]
    },
    {
     "name": "stderr",
     "output_type": "stream",
     "text": [
      "\r",
      " 50%|█████████████████████▌                     | 15/30 [00:03<00:03,  4.00it/s]"
     ]
    },
    {
     "name": "stdout",
     "output_type": "stream",
     "text": [
      "(136343, 8) \n",
      "\n",
      "16 day of September\n"
     ]
    },
    {
     "name": "stderr",
     "output_type": "stream",
     "text": [
      "\r",
      " 53%|██████████████████████▉                    | 16/30 [00:04<00:03,  3.84it/s]"
     ]
    },
    {
     "name": "stdout",
     "output_type": "stream",
     "text": [
      "(147604, 8) \n",
      "\n",
      "17 day of September\n"
     ]
    },
    {
     "name": "stderr",
     "output_type": "stream",
     "text": [
      "\r",
      " 57%|████████████████████████▎                  | 17/30 [00:04<00:03,  3.36it/s]"
     ]
    },
    {
     "name": "stdout",
     "output_type": "stream",
     "text": [
      "(196755, 8) \n",
      "\n",
      "18 day of September\n"
     ]
    },
    {
     "name": "stderr",
     "output_type": "stream",
     "text": [
      "\r",
      " 60%|█████████████████████████▊                 | 18/30 [00:04<00:03,  3.34it/s]"
     ]
    },
    {
     "name": "stdout",
     "output_type": "stream",
     "text": [
      "(163494, 8) \n",
      "\n",
      "19 day of September\n"
     ]
    },
    {
     "name": "stderr",
     "output_type": "stream",
     "text": [
      "\r",
      " 63%|███████████████████████████▏               | 19/30 [00:05<00:03,  3.54it/s]"
     ]
    },
    {
     "name": "stdout",
     "output_type": "stream",
     "text": [
      "(129439, 8) \n",
      "\n",
      "20 day of September\n"
     ]
    },
    {
     "name": "stderr",
     "output_type": "stream",
     "text": [
      "\r",
      " 67%|████████████████████████████▋              | 20/30 [00:05<00:02,  3.58it/s]"
     ]
    },
    {
     "name": "stdout",
     "output_type": "stream",
     "text": [
      "(138920, 8) \n",
      "\n",
      "21 day of September\n"
     ]
    },
    {
     "name": "stderr",
     "output_type": "stream",
     "text": [
      "\r",
      " 70%|██████████████████████████████             | 21/30 [00:05<00:02,  3.81it/s]"
     ]
    },
    {
     "name": "stdout",
     "output_type": "stream",
     "text": [
      "(117550, 8) \n",
      "\n",
      "22 day of September\n"
     ]
    },
    {
     "name": "stderr",
     "output_type": "stream",
     "text": [
      "\r",
      " 73%|███████████████████████████████▌           | 22/30 [00:05<00:02,  3.97it/s]"
     ]
    },
    {
     "name": "stdout",
     "output_type": "stream",
     "text": [
      "(118804, 8) \n",
      "\n",
      "23 day of September\n"
     ]
    },
    {
     "name": "stderr",
     "output_type": "stream",
     "text": [
      "\r",
      " 77%|████████████████████████████████▉          | 23/30 [00:06<00:01,  3.92it/s]"
     ]
    },
    {
     "name": "stdout",
     "output_type": "stream",
     "text": [
      "(136838, 8) \n",
      "\n",
      "24 day of September\n"
     ]
    },
    {
     "name": "stderr",
     "output_type": "stream",
     "text": [
      "\r",
      " 80%|██████████████████████████████████▍        | 24/30 [00:06<00:01,  4.01it/s]"
     ]
    },
    {
     "name": "stdout",
     "output_type": "stream",
     "text": [
      "(122186, 8) \n",
      "\n",
      "25 day of September\n",
      "(34499, 8) \n",
      "\n",
      "26 day of September\n"
     ]
    },
    {
     "name": "stderr",
     "output_type": "stream",
     "text": [
      "\r",
      " 87%|█████████████████████████████████████▎     | 26/30 [00:06<00:00,  4.62it/s]"
     ]
    },
    {
     "name": "stdout",
     "output_type": "stream",
     "text": [
      "(149315, 8) \n",
      "\n",
      "27 day of September\n"
     ]
    },
    {
     "name": "stderr",
     "output_type": "stream",
     "text": [
      "\r",
      " 90%|██████████████████████████████████████▋    | 27/30 [00:06<00:00,  4.36it/s]"
     ]
    },
    {
     "name": "stdout",
     "output_type": "stream",
     "text": [
      "(139088, 8) \n",
      "\n",
      "28 day of September\n"
     ]
    },
    {
     "name": "stderr",
     "output_type": "stream",
     "text": [
      "\r",
      " 93%|████████████████████████████████████████▏  | 28/30 [00:07<00:00,  4.03it/s]"
     ]
    },
    {
     "name": "stdout",
     "output_type": "stream",
     "text": [
      "(155491, 8) \n",
      "\n",
      "29 day of September\n"
     ]
    },
    {
     "name": "stderr",
     "output_type": "stream",
     "text": [
      "\r",
      " 97%|█████████████████████████████████████████▌ | 29/30 [00:07<00:00,  4.02it/s]"
     ]
    },
    {
     "name": "stdout",
     "output_type": "stream",
     "text": [
      "(130630, 8) \n",
      "\n",
      "30 day of September\n"
     ]
    },
    {
     "name": "stderr",
     "output_type": "stream",
     "text": [
      "100%|███████████████████████████████████████████| 30/30 [00:07<00:00,  3.84it/s]"
     ]
    },
    {
     "name": "stdout",
     "output_type": "stream",
     "text": [
      "(150934, 8) \n",
      "\n"
     ]
    },
    {
     "name": "stderr",
     "output_type": "stream",
     "text": [
      "\n"
     ]
    }
   ],
   "source": [
    "# put downloaded csv - files near to .ipynb-file\n",
    "\n",
    "#path = \"/Users/salikh-khabibullin/Desktop/Python_2_Assign_2_part/CSVs/\"\n",
    "path = \"./CSVs/\"\n",
    "#raw_2022_09_01.csv\n",
    "files_1 = [\"raw_2022_09_0\" + str(i) +\".csv\" for i in range(1, 10)]\n",
    "files_2 = [\"raw_2022_09_\" + str(i) +\".csv\" for i in range(10, 31)]\n",
    "files = files_1 + files_2\n",
    "#print(files)\n",
    "\n",
    "data_list = []\n",
    "\n",
    "for i in tqdm(range(len(files))):\n",
    "    print(i + 1, \"day of September\")\n",
    "\n",
    "    data = pd.read_csv(path +files[i])\n",
    "    print(data.shape, \"\\n\")\n",
    "    data_list.append(data)"
   ]
  },
  {
   "cell_type": "code",
   "execution_count": 3,
   "id": "6897b2a4",
   "metadata": {},
   "outputs": [
    {
     "data": {
      "text/html": [
       "<div>\n",
       "<style scoped>\n",
       "    .dataframe tbody tr th:only-of-type {\n",
       "        vertical-align: middle;\n",
       "    }\n",
       "\n",
       "    .dataframe tbody tr th {\n",
       "        vertical-align: top;\n",
       "    }\n",
       "\n",
       "    .dataframe thead th {\n",
       "        text-align: right;\n",
       "    }\n",
       "</style>\n",
       "<table border=\"1\" class=\"dataframe\">\n",
       "  <thead>\n",
       "    <tr style=\"text-align: right;\">\n",
       "      <th></th>\n",
       "      <th>client_user_id</th>\n",
       "      <th>session_id</th>\n",
       "      <th>dropped_frames</th>\n",
       "      <th>FPS</th>\n",
       "      <th>bitrate</th>\n",
       "      <th>RTT</th>\n",
       "      <th>timestamp</th>\n",
       "      <th>device</th>\n",
       "    </tr>\n",
       "  </thead>\n",
       "  <tbody>\n",
       "    <tr>\n",
       "      <th>0</th>\n",
       "      <td>0302549e-5522-43e5-b2f2-0b470932a6fd</td>\n",
       "      <td>b3aebc80-ff28-4569-bd18-2ace692f668e</td>\n",
       "      <td>0.0</td>\n",
       "      <td>30.0</td>\n",
       "      <td>3636.0</td>\n",
       "      <td>64.0</td>\n",
       "      <td>2022-09-01 00:00:00</td>\n",
       "      <td>Windows</td>\n",
       "    </tr>\n",
       "    <tr>\n",
       "      <th>1</th>\n",
       "      <td>0302549e-5522-43e5-b2f2-0b470932a6fd</td>\n",
       "      <td>b3aebc80-ff28-4569-bd18-2ace692f668e</td>\n",
       "      <td>0.0</td>\n",
       "      <td>30.0</td>\n",
       "      <td>3418.0</td>\n",
       "      <td>66.0</td>\n",
       "      <td>2022-09-01 00:00:05</td>\n",
       "      <td>Windows</td>\n",
       "    </tr>\n",
       "    <tr>\n",
       "      <th>2</th>\n",
       "      <td>0302549e-5522-43e5-b2f2-0b470932a6fd</td>\n",
       "      <td>b3aebc80-ff28-4569-bd18-2ace692f668e</td>\n",
       "      <td>0.0</td>\n",
       "      <td>30.0</td>\n",
       "      <td>3596.0</td>\n",
       "      <td>62.0</td>\n",
       "      <td>2022-09-01 00:00:10</td>\n",
       "      <td>Windows</td>\n",
       "    </tr>\n",
       "    <tr>\n",
       "      <th>3</th>\n",
       "      <td>0302549e-5522-43e5-b2f2-0b470932a6fd</td>\n",
       "      <td>b3aebc80-ff28-4569-bd18-2ace692f668e</td>\n",
       "      <td>0.0</td>\n",
       "      <td>30.0</td>\n",
       "      <td>3304.0</td>\n",
       "      <td>64.0</td>\n",
       "      <td>2022-09-01 00:00:15</td>\n",
       "      <td>Windows</td>\n",
       "    </tr>\n",
       "    <tr>\n",
       "      <th>4</th>\n",
       "      <td>0302549e-5522-43e5-b2f2-0b470932a6fd</td>\n",
       "      <td>b3aebc80-ff28-4569-bd18-2ace692f668e</td>\n",
       "      <td>0.0</td>\n",
       "      <td>30.0</td>\n",
       "      <td>2893.0</td>\n",
       "      <td>64.0</td>\n",
       "      <td>2022-09-01 00:00:20</td>\n",
       "      <td>Windows</td>\n",
       "    </tr>\n",
       "  </tbody>\n",
       "</table>\n",
       "</div>"
      ],
      "text/plain": [
       "                         client_user_id                            session_id  \\\n",
       "0  0302549e-5522-43e5-b2f2-0b470932a6fd  b3aebc80-ff28-4569-bd18-2ace692f668e   \n",
       "1  0302549e-5522-43e5-b2f2-0b470932a6fd  b3aebc80-ff28-4569-bd18-2ace692f668e   \n",
       "2  0302549e-5522-43e5-b2f2-0b470932a6fd  b3aebc80-ff28-4569-bd18-2ace692f668e   \n",
       "3  0302549e-5522-43e5-b2f2-0b470932a6fd  b3aebc80-ff28-4569-bd18-2ace692f668e   \n",
       "4  0302549e-5522-43e5-b2f2-0b470932a6fd  b3aebc80-ff28-4569-bd18-2ace692f668e   \n",
       "\n",
       "   dropped_frames   FPS  bitrate   RTT            timestamp   device  \n",
       "0             0.0  30.0   3636.0  64.0  2022-09-01 00:00:00  Windows  \n",
       "1             0.0  30.0   3418.0  66.0  2022-09-01 00:00:05  Windows  \n",
       "2             0.0  30.0   3596.0  62.0  2022-09-01 00:00:10  Windows  \n",
       "3             0.0  30.0   3304.0  64.0  2022-09-01 00:00:15  Windows  \n",
       "4             0.0  30.0   2893.0  64.0  2022-09-01 00:00:20  Windows  "
      ]
     },
     "execution_count": 3,
     "metadata": {},
     "output_type": "execute_result"
    }
   ],
   "source": [
    "data_list[0].head()"
   ]
  },
  {
   "cell_type": "code",
   "execution_count": null,
   "id": "22bfc795",
   "metadata": {},
   "outputs": [],
   "source": []
  },
  {
   "cell_type": "code",
   "execution_count": 4,
   "id": "e493f972",
   "metadata": {},
   "outputs": [
    {
     "name": "stdout",
     "output_type": "stream",
     "text": [
      "(4035062, 8)\n",
      "Amount os people :  1141\n"
     ]
    }
   ],
   "source": [
    "big_data = pd.concat(data_list)\n",
    "big_data[\"timestamp\"] = pd.to_datetime(big_data[\"timestamp\"])\n",
    "print(big_data.shape)\n",
    "\n",
    "#my_dict = {\"Windows\": 0, \"Mac\": 1}\n",
    "my_dict = dict(zip(big_data[\"device\"].unique(), range(big_data[\"device\"].nunique())))\n",
    "\n",
    "inv_dict = {}\n",
    "for x in my_dict:\n",
    "    inv_dict[my_dict[x]] = x\n",
    "    \n",
    "big_data[\"device\"] = big_data[\"device\"].map(my_dict).astype(\"int\")\n",
    "\n",
    "print(\"Amount os people : \", big_data[\"client_user_id\"].nunique())"
   ]
  },
  {
   "cell_type": "code",
   "execution_count": 5,
   "id": "ce4c30af",
   "metadata": {},
   "outputs": [
    {
     "data": {
      "text/plain": [
       "array([0, 1])"
      ]
     },
     "execution_count": 5,
     "metadata": {},
     "output_type": "execute_result"
    }
   ],
   "source": [
    "big_data[\"device\"].unique()"
   ]
  },
  {
   "cell_type": "code",
   "execution_count": 6,
   "id": "127fb8dc",
   "metadata": {},
   "outputs": [
    {
     "data": {
      "text/html": [
       "<div>\n",
       "<style scoped>\n",
       "    .dataframe tbody tr th:only-of-type {\n",
       "        vertical-align: middle;\n",
       "    }\n",
       "\n",
       "    .dataframe tbody tr th {\n",
       "        vertical-align: top;\n",
       "    }\n",
       "\n",
       "    .dataframe thead th {\n",
       "        text-align: right;\n",
       "    }\n",
       "</style>\n",
       "<table border=\"1\" class=\"dataframe\">\n",
       "  <thead>\n",
       "    <tr style=\"text-align: right;\">\n",
       "      <th></th>\n",
       "      <th>client_user_id</th>\n",
       "      <th>session_id</th>\n",
       "      <th>dropped_frames</th>\n",
       "      <th>FPS</th>\n",
       "      <th>bitrate</th>\n",
       "      <th>RTT</th>\n",
       "      <th>timestamp</th>\n",
       "      <th>device</th>\n",
       "    </tr>\n",
       "  </thead>\n",
       "  <tbody>\n",
       "    <tr>\n",
       "      <th>0</th>\n",
       "      <td>0302549e-5522-43e5-b2f2-0b470932a6fd</td>\n",
       "      <td>b3aebc80-ff28-4569-bd18-2ace692f668e</td>\n",
       "      <td>0.0</td>\n",
       "      <td>30.0</td>\n",
       "      <td>3636.0</td>\n",
       "      <td>64.0</td>\n",
       "      <td>2022-09-01 00:00:00</td>\n",
       "      <td>0</td>\n",
       "    </tr>\n",
       "    <tr>\n",
       "      <th>1</th>\n",
       "      <td>0302549e-5522-43e5-b2f2-0b470932a6fd</td>\n",
       "      <td>b3aebc80-ff28-4569-bd18-2ace692f668e</td>\n",
       "      <td>0.0</td>\n",
       "      <td>30.0</td>\n",
       "      <td>3418.0</td>\n",
       "      <td>66.0</td>\n",
       "      <td>2022-09-01 00:00:05</td>\n",
       "      <td>0</td>\n",
       "    </tr>\n",
       "    <tr>\n",
       "      <th>2</th>\n",
       "      <td>0302549e-5522-43e5-b2f2-0b470932a6fd</td>\n",
       "      <td>b3aebc80-ff28-4569-bd18-2ace692f668e</td>\n",
       "      <td>0.0</td>\n",
       "      <td>30.0</td>\n",
       "      <td>3596.0</td>\n",
       "      <td>62.0</td>\n",
       "      <td>2022-09-01 00:00:10</td>\n",
       "      <td>0</td>\n",
       "    </tr>\n",
       "    <tr>\n",
       "      <th>3</th>\n",
       "      <td>0302549e-5522-43e5-b2f2-0b470932a6fd</td>\n",
       "      <td>b3aebc80-ff28-4569-bd18-2ace692f668e</td>\n",
       "      <td>0.0</td>\n",
       "      <td>30.0</td>\n",
       "      <td>3304.0</td>\n",
       "      <td>64.0</td>\n",
       "      <td>2022-09-01 00:00:15</td>\n",
       "      <td>0</td>\n",
       "    </tr>\n",
       "    <tr>\n",
       "      <th>4</th>\n",
       "      <td>0302549e-5522-43e5-b2f2-0b470932a6fd</td>\n",
       "      <td>b3aebc80-ff28-4569-bd18-2ace692f668e</td>\n",
       "      <td>0.0</td>\n",
       "      <td>30.0</td>\n",
       "      <td>2893.0</td>\n",
       "      <td>64.0</td>\n",
       "      <td>2022-09-01 00:00:20</td>\n",
       "      <td>0</td>\n",
       "    </tr>\n",
       "  </tbody>\n",
       "</table>\n",
       "</div>"
      ],
      "text/plain": [
       "                         client_user_id                            session_id  \\\n",
       "0  0302549e-5522-43e5-b2f2-0b470932a6fd  b3aebc80-ff28-4569-bd18-2ace692f668e   \n",
       "1  0302549e-5522-43e5-b2f2-0b470932a6fd  b3aebc80-ff28-4569-bd18-2ace692f668e   \n",
       "2  0302549e-5522-43e5-b2f2-0b470932a6fd  b3aebc80-ff28-4569-bd18-2ace692f668e   \n",
       "3  0302549e-5522-43e5-b2f2-0b470932a6fd  b3aebc80-ff28-4569-bd18-2ace692f668e   \n",
       "4  0302549e-5522-43e5-b2f2-0b470932a6fd  b3aebc80-ff28-4569-bd18-2ace692f668e   \n",
       "\n",
       "   dropped_frames   FPS  bitrate   RTT           timestamp  device  \n",
       "0             0.0  30.0   3636.0  64.0 2022-09-01 00:00:00       0  \n",
       "1             0.0  30.0   3418.0  66.0 2022-09-01 00:00:05       0  \n",
       "2             0.0  30.0   3596.0  62.0 2022-09-01 00:00:10       0  \n",
       "3             0.0  30.0   3304.0  64.0 2022-09-01 00:00:15       0  \n",
       "4             0.0  30.0   2893.0  64.0 2022-09-01 00:00:20       0  "
      ]
     },
     "execution_count": 6,
     "metadata": {},
     "output_type": "execute_result"
    }
   ],
   "source": [
    "big_data.head()"
   ]
  },
  {
   "cell_type": "code",
   "execution_count": null,
   "id": "c763d7c1",
   "metadata": {},
   "outputs": [],
   "source": []
  },
  {
   "cell_type": "code",
   "execution_count": 7,
   "id": "8d7584b0",
   "metadata": {},
   "outputs": [],
   "source": [
    "def summary(data, client_id, enter_period, write_flag):\n",
    "    #client_id = \"29d0b585-e489-4837-979b-46ae3fb327c2\"\n",
    "    \n",
    "    enter_period = enter_period.split()\n",
    "    start_date = pd.Timestamp(enter_period[0])\n",
    "    finish_date = pd.Timestamp(enter_period[-1])\n",
    "    \n",
    "    mask = (data[\"timestamp\"] >= start_date) & (data[\"timestamp\"] <= finish_date)\n",
    "    data = data.loc[mask]\n",
    "    \n",
    "    # Number of sessions : 10\n",
    "    sess_number = data.loc[data[\"client_user_id\"] == client_id][\"session_id\"].nunique()\n",
    "    \n",
    "    # Date of first session\n",
    "    sess_first = sorted(data.loc[data[\"client_user_id\"] == client_id][\"timestamp\"].dt.date.unique())[0]\n",
    "    \n",
    "    # Date of most recent session\n",
    "    sess_recent = sorted(data.loc[data[\"client_user_id\"] == client_id][\"timestamp\"].dt.date.unique())[-1]\n",
    "    \n",
    "    # Average time spent per session\n",
    "    stamp_number = data.loc[data[\"client_user_id\"] == client_id][\"timestamp\"].nunique()\n",
    "\n",
    "    B = sorted(data.loc[data[\"client_user_id\"] == client_id][\"timestamp\"].unique())\n",
    "    timedelta = B[-1] - B[0]\n",
    "    \n",
    "    seconds = timedelta.astype('timedelta64[s]').astype(np.int32)\n",
    "    minutes = timedelta.astype('timedelta64[m]').astype(np.int32)\n",
    "    hours = timedelta.astype('timedelta64[h]').astype(np.int32)\n",
    "\n",
    "    avg_timedelta = minutes / stamp_number # hours / stamp_number\n",
    "    \n",
    "    # Most frequently used device\n",
    "    famous_dev = data.loc[data[\"client_user_id\"] == client_id][\"device\"].value_counts(normalize=True).index.values[0]\n",
    "    #famous_dev = \"Windows\" if famous_dev == 0 else \"Mac\"\n",
    "    famous_dev = inv_dict[famous_dev]\n",
    "    \n",
    "    # Devices used\n",
    "    dev = data.loc[data[\"client_user_id\"] == client_id][\"device\"].unique()[0]\n",
    "    # if we have only Windows and Mac\n",
    "    #dev = \"Windows\" if dev == 0 else \"Mac\"\n",
    "    dev = inv_dict[dev]\n",
    "    \n",
    "    # Average of : 1) Round trip time (RTT) 2) Frames per Second 3) Dropped Frames 4) bitrate\n",
    "    # как правильно считать (по сессии или нет)\n",
    "    mean_RTT = data.loc[data[\"client_user_id\"] == client_id][\"RTT\"].mean()\n",
    "    mean_FPS = data.loc[data[\"client_user_id\"] == client_id][\"FPS\"].mean()\n",
    "    mean_dr_frames = data.loc[data[\"client_user_id\"] == client_id][\"dropped_frames\"].mean()\n",
    "    mean_bitrate = data.loc[data[\"client_user_id\"] == client_id][\"bitrate\"].mean()\n",
    "    \n",
    "    # Total number of bad sessions (predicted using ML model)\n",
    "    # не надо делать\n",
    "    \n",
    "    # Estimated next session time\n",
    "    rez = calc_model(big_data)\n",
    "    \n",
    "    # Super user or Not (a user who has sessions time more than 60 min in a week)\n",
    "    # Вопрос - как именно считать \"в неделю\"\n",
    "    flag = \"No\"\n",
    "    if avg_timedelta > 60:\n",
    "        flag = \"Yes\"\n",
    "    \n",
    "    if write_flag == \"yes\":\n",
    "        file = open(\"./all_print.txt\", 'a')\n",
    "        with file as writer:\n",
    "            writer.writelines(\"Number of sessions : \" + str(sess_number) + \"\\n\")\n",
    "            writer.writelines(\"Date of first session : \" + str(sess_first) + \"\\n\")\n",
    "            writer.writelines(\"Date of recent session : \" + str(sess_recent) + \"\\n\") \n",
    "            writer.writelines(\"Average time spent per session : \" + str(avg_timedelta) + \" minutes \\n\")\n",
    "            writer.writelines(\"Most frequently used device : \" + str(famous_dev) + \"\\n\")\n",
    "            writer.writelines(\"Devices used : \" + str(dev) + \"\\n\")\n",
    "            writer.writelines(\"Average of : RTT \" + str(mean_RTT) + \" FPS \" + str(mean_FPS) + \" drop_frames \" + \n",
    "                              str(mean_dr_frames) + \" bitrate \" + str(mean_bitrate) + \"\\n\")\n",
    "            writer.writelines(\"Super user or Not : \" + str(flag) + \"\\n\")\n",
    "            writer.writelines(\"Dji says OK and roc_auc : \" + str(rez) + \"\\n\")\n",
    "            \n",
    "    else:\n",
    "        print(\"Number of sessions : \", sess_number)\n",
    "        print(\"Date of first session : \", sess_first)\n",
    "        print(\"Date of recent session : \", sess_recent) \n",
    "        print(\"Average time spent per session : \", avg_timedelta, \"minutes\")\n",
    "        print(\"Most frequently used device : \", famous_dev)\n",
    "        print(\"Devices used : \", dev)\n",
    "        print(\"Average of : RTT\", mean_RTT, \"FPS\", mean_FPS, \"drop_frames\", \n",
    "                              mean_dr_frames, \"bitrate\", mean_bitrate)\n",
    "        print(\"Super user or Not : \", flag)\n",
    "        print(\"Dji says OK and roc_auc : \", rez) "
   ]
  },
  {
   "cell_type": "code",
   "execution_count": 8,
   "id": "bd5f406e",
   "metadata": {},
   "outputs": [],
   "source": [
    "def calc_model(data):\n",
    "    #data[\"device\"] = data[\"device\"].map({\"Windows\": 0, \"Mac\": 1}).astype(\"int\")\n",
    "    \n",
    "    features = list(data.columns)\n",
    "    #print(\"features : \", features)\n",
    "    \n",
    "    num = [cname for cname in features if data[cname].dtype in ['int64', 'float64']]\n",
    "    cat = [cname for cname in features if data[cname].dtype == \"object\"]\n",
    "    time = [cname for cname in features if data[cname].dtype == \"<M8[ns]\"] # пока вот так по-колхозному)\n",
    "    \n",
    "    y = data[\"device\"]\n",
    "    \n",
    "    features = num + cat\n",
    "    #features.remove(\"timestamp\")\n",
    "    #features.remove(\"device\")\n",
    "\n",
    "    #cat.remove(\"device\")\n",
    "    cat = [\"client_user_id\", \"session_id\"]\n",
    "\n",
    "    data = data[features]\n",
    "    \n",
    "    X_train, X_test, y_train, y_test = train_test_split(data, y, test_size = 0.1, random_state = 22)\n",
    "    X_tr, X_val, y_tr, y_val = train_test_split(X_train, y_train, test_size = 1/8, random_state = 22)\n",
    "    \n",
    "    params = {'loss_function':'Logloss',\n",
    "              'eval_metric':'AUC',\n",
    "              'verbose': False,\n",
    "              'iterations': 10,\n",
    "              'cat_features': cat,\n",
    "              'random_seed': 1,}\n",
    "\n",
    "    Model = CatBoostClassifier(**params);\n",
    "    #Model.fit(X_tr, y_tr, \n",
    "    #          eval_set = (X_val, y_val))\n",
    "    Model.fit(X_tr, y_tr, \n",
    "              eval_set = (X_val, y_val),    \n",
    "              use_best_model = True, \n",
    "              plot = False);\n",
    "    \n",
    "    y_pred = Model.predict(X_test)\n",
    "    roc_auc = roc_auc_score(y_test, y_pred)\n",
    "    \n",
    "    return roc_auc"
   ]
  },
  {
   "cell_type": "code",
   "execution_count": 9,
   "id": "ffbf43dc",
   "metadata": {},
   "outputs": [
    {
     "data": {
      "text/html": [
       "<div>\n",
       "<style scoped>\n",
       "    .dataframe tbody tr th:only-of-type {\n",
       "        vertical-align: middle;\n",
       "    }\n",
       "\n",
       "    .dataframe tbody tr th {\n",
       "        vertical-align: top;\n",
       "    }\n",
       "\n",
       "    .dataframe thead th {\n",
       "        text-align: right;\n",
       "    }\n",
       "</style>\n",
       "<table border=\"1\" class=\"dataframe\">\n",
       "  <thead>\n",
       "    <tr style=\"text-align: right;\">\n",
       "      <th></th>\n",
       "      <th>client_user_id</th>\n",
       "      <th>session_id</th>\n",
       "      <th>dropped_frames</th>\n",
       "      <th>FPS</th>\n",
       "      <th>bitrate</th>\n",
       "      <th>RTT</th>\n",
       "      <th>timestamp</th>\n",
       "      <th>device</th>\n",
       "    </tr>\n",
       "  </thead>\n",
       "  <tbody>\n",
       "    <tr>\n",
       "      <th>0</th>\n",
       "      <td>0302549e-5522-43e5-b2f2-0b470932a6fd</td>\n",
       "      <td>b3aebc80-ff28-4569-bd18-2ace692f668e</td>\n",
       "      <td>0.0</td>\n",
       "      <td>30.0</td>\n",
       "      <td>3636.0</td>\n",
       "      <td>64.0</td>\n",
       "      <td>2022-09-01 00:00:00</td>\n",
       "      <td>0</td>\n",
       "    </tr>\n",
       "    <tr>\n",
       "      <th>1</th>\n",
       "      <td>0302549e-5522-43e5-b2f2-0b470932a6fd</td>\n",
       "      <td>b3aebc80-ff28-4569-bd18-2ace692f668e</td>\n",
       "      <td>0.0</td>\n",
       "      <td>30.0</td>\n",
       "      <td>3418.0</td>\n",
       "      <td>66.0</td>\n",
       "      <td>2022-09-01 00:00:05</td>\n",
       "      <td>0</td>\n",
       "    </tr>\n",
       "    <tr>\n",
       "      <th>2</th>\n",
       "      <td>0302549e-5522-43e5-b2f2-0b470932a6fd</td>\n",
       "      <td>b3aebc80-ff28-4569-bd18-2ace692f668e</td>\n",
       "      <td>0.0</td>\n",
       "      <td>30.0</td>\n",
       "      <td>3596.0</td>\n",
       "      <td>62.0</td>\n",
       "      <td>2022-09-01 00:00:10</td>\n",
       "      <td>0</td>\n",
       "    </tr>\n",
       "    <tr>\n",
       "      <th>3</th>\n",
       "      <td>0302549e-5522-43e5-b2f2-0b470932a6fd</td>\n",
       "      <td>b3aebc80-ff28-4569-bd18-2ace692f668e</td>\n",
       "      <td>0.0</td>\n",
       "      <td>30.0</td>\n",
       "      <td>3304.0</td>\n",
       "      <td>64.0</td>\n",
       "      <td>2022-09-01 00:00:15</td>\n",
       "      <td>0</td>\n",
       "    </tr>\n",
       "    <tr>\n",
       "      <th>4</th>\n",
       "      <td>0302549e-5522-43e5-b2f2-0b470932a6fd</td>\n",
       "      <td>b3aebc80-ff28-4569-bd18-2ace692f668e</td>\n",
       "      <td>0.0</td>\n",
       "      <td>30.0</td>\n",
       "      <td>2893.0</td>\n",
       "      <td>64.0</td>\n",
       "      <td>2022-09-01 00:00:20</td>\n",
       "      <td>0</td>\n",
       "    </tr>\n",
       "  </tbody>\n",
       "</table>\n",
       "</div>"
      ],
      "text/plain": [
       "                         client_user_id                            session_id  \\\n",
       "0  0302549e-5522-43e5-b2f2-0b470932a6fd  b3aebc80-ff28-4569-bd18-2ace692f668e   \n",
       "1  0302549e-5522-43e5-b2f2-0b470932a6fd  b3aebc80-ff28-4569-bd18-2ace692f668e   \n",
       "2  0302549e-5522-43e5-b2f2-0b470932a6fd  b3aebc80-ff28-4569-bd18-2ace692f668e   \n",
       "3  0302549e-5522-43e5-b2f2-0b470932a6fd  b3aebc80-ff28-4569-bd18-2ace692f668e   \n",
       "4  0302549e-5522-43e5-b2f2-0b470932a6fd  b3aebc80-ff28-4569-bd18-2ace692f668e   \n",
       "\n",
       "   dropped_frames   FPS  bitrate   RTT           timestamp  device  \n",
       "0             0.0  30.0   3636.0  64.0 2022-09-01 00:00:00       0  \n",
       "1             0.0  30.0   3418.0  66.0 2022-09-01 00:00:05       0  \n",
       "2             0.0  30.0   3596.0  62.0 2022-09-01 00:00:10       0  \n",
       "3             0.0  30.0   3304.0  64.0 2022-09-01 00:00:15       0  \n",
       "4             0.0  30.0   2893.0  64.0 2022-09-01 00:00:20       0  "
      ]
     },
     "execution_count": 9,
     "metadata": {},
     "output_type": "execute_result"
    }
   ],
   "source": [
    "big_data.head()"
   ]
  },
  {
   "cell_type": "code",
   "execution_count": null,
   "id": "5a8a52c3",
   "metadata": {},
   "outputs": [],
   "source": []
  },
  {
   "cell_type": "code",
   "execution_count": 10,
   "id": "36df13c4",
   "metadata": {},
   "outputs": [
    {
     "name": "stdout",
     "output_type": "stream",
     "text": [
      "Number of sessions :  2\n",
      "Date of first session :  2022-09-12\n",
      "Date of recent session :  2022-09-12\n",
      "Average time spent per session :  0.9243353783231084 minutes\n",
      "Most frequently used device :  Windows\n",
      "Devices used :  Windows\n",
      "Average of : RTT 7.947511929107021 FPS 51.603271983640084 drop_frames 0.643490115882754 bitrate 15543.457396046353\n",
      "Super user or Not :  No\n",
      "Dji says OK and roc_auc :  1.0\n"
     ]
    }
   ],
   "source": [
    "summary(big_data, \"29d0b585-e489-4837-979b-46ae3fb327c2\", \"2022/09/12 - 2022/09/16\", \"no\") # \"yes\""
   ]
  },
  {
   "cell_type": "code",
   "execution_count": 11,
   "id": "dda95552",
   "metadata": {},
   "outputs": [],
   "source": [
    "summary(big_data, \"29d0b585-e489-4837-979b-46ae3fb327c2\", \"2022/09/12 - 2022/09/16\", \"yes\")"
   ]
  },
  {
   "cell_type": "markdown",
   "id": "596a3c9c",
   "metadata": {},
   "source": [
    "# Дальше надо копать чутка, ибо Салих стал полным дураком)"
   ]
  },
  {
   "cell_type": "code",
   "execution_count": null,
   "id": "e74d64cb",
   "metadata": {},
   "outputs": [],
   "source": [
    "#Upon exit the system should display the summary for the past 7 days \n",
    "#(number of sessions for all sessions, average time spent per session, \n",
    "# sum of hours spent by all users) and option to save it to file"
   ]
  },
  {
   "cell_type": "code",
   "execution_count": 22,
   "id": "1076d1b8",
   "metadata": {},
   "outputs": [],
   "source": [
    "def last_step(data):\n",
    "    return \"Salikh dolboeb\""
   ]
  },
  {
   "cell_type": "code",
   "execution_count": 23,
   "id": "81dbe989",
   "metadata": {},
   "outputs": [
    {
     "data": {
      "text/plain": [
       "'Salikh dolboeb'"
      ]
     },
     "execution_count": 23,
     "metadata": {},
     "output_type": "execute_result"
    }
   ],
   "source": [
    "last_step(big_data)"
   ]
  },
  {
   "cell_type": "markdown",
   "id": "ac561edd",
   "metadata": {},
   "source": [
    "def last_step(data, enter_period, write_flag):\n",
    "    finish_date = pd.Timestamp(enter_period)\n",
    "    start_date = finish_date - pd.Timedelta(days=7)\n",
    "    \n",
    "    mask = (data[\"timestamp\"] >= start_date) & (data[\"timestamp\"] <= finish_date)\n",
    "    data = data.loc[mask]\n",
    "    \n",
    "    number = data[\"session_id\"].nunique()\n",
    "    avg_time = (max(data[\"timestamp\"]) - min(data[\"timestamp\"]))/number\n",
    "    "
   ]
  },
  {
   "cell_type": "markdown",
   "id": "7eec58f2",
   "metadata": {},
   "source": [
    "enter_period = str(input())\n",
    "finish_date = pd.Timestamp(enter_period)\n",
    "start_date = finish_date - pd.Timedelta(days=7)"
   ]
  },
  {
   "cell_type": "code",
   "execution_count": 17,
   "id": "18821e3f",
   "metadata": {},
   "outputs": [
    {
     "data": {
      "text/plain": [
       "str"
      ]
     },
     "execution_count": 17,
     "metadata": {},
     "output_type": "execute_result"
    }
   ],
   "source": [
    "type(finish_date)"
   ]
  },
  {
   "cell_type": "code",
   "execution_count": null,
   "id": "431164fc",
   "metadata": {},
   "outputs": [],
   "source": []
  },
  {
   "cell_type": "code",
   "execution_count": 14,
   "id": "c5bbe032",
   "metadata": {},
   "outputs": [
    {
     "data": {
      "text/plain": [
       "4280"
      ]
     },
     "execution_count": 14,
     "metadata": {},
     "output_type": "execute_result"
    }
   ],
   "source": [
    "big_data[\"session_id\"].nunique()"
   ]
  },
  {
   "cell_type": "code",
   "execution_count": 20,
   "id": "035590b7",
   "metadata": {},
   "outputs": [
    {
     "data": {
      "text/plain": [
       "DatetimeIndex(['2014-01-10'], dtype='datetime64[ns]', freq='D')"
      ]
     },
     "execution_count": 20,
     "metadata": {},
     "output_type": "execute_result"
    }
   ],
   "source": [
    "pd.date_range('2014-01-03', periods=1) + pd.Timedelta(days=7)"
   ]
  },
  {
   "cell_type": "code",
   "execution_count": null,
   "id": "6e9eb51d",
   "metadata": {},
   "outputs": [],
   "source": []
  },
  {
   "cell_type": "code",
   "execution_count": 19,
   "id": "da6d011e",
   "metadata": {},
   "outputs": [
    {
     "name": "stdout",
     "output_type": "stream",
     "text": [
      "2022-09-12\n",
      "<class 'pandas._libs.tslibs.timestamps.Timestamp'>\n",
      "<class 'pandas._libs.tslibs.timestamps.Timestamp'>\n",
      "CPU times: user 106 ms, sys: 56.4 ms, total: 162 ms\n",
      "Wall time: 12.6 s\n"
     ]
    }
   ],
   "source": [
    "%%time \n",
    "\n",
    "enter_period = str(input())\n",
    "finish_date = pd.Timestamp(enter_period)\n",
    "start_date = finish_date - pd.Timedelta(days=7)\n",
    "print(type(finish_date))\n",
    "print(type(start_date))\n",
    "    \n",
    "#mask = (data[\"timestamp\"] >= start_date) & (data[\"timestamp\"] <= finish_date)\n",
    "#data = data.loc[mask]"
   ]
  },
  {
   "cell_type": "code",
   "execution_count": 21,
   "id": "4e5349b7",
   "metadata": {},
   "outputs": [],
   "source": [
    "#mask = (data[\"timestamp\"] >= start_date) & (data[\"timestamp\"] <= finish_date)\n",
    "#data = data.loc[mask]"
   ]
  },
  {
   "cell_type": "markdown",
   "id": "8e334c11",
   "metadata": {},
   "source": [
    "%%time \n",
    "\n",
    "duration = []\n",
    "\n",
    "for person in tqdm(list(data[\"client_user_id\"].unique())):\n",
    "    print(\"person : \", person)\n",
    "    for sess in tqdm(list(data.loc[data[\"client_user_id\"] == person][\"session_id\"].unique())):\n",
    "        curr = data.loc[(data[\"client_user_id\"] == person) & (data[\"session_id\"] == sess)]\n",
    "        #sec = (curr[\"timestamp\"].iloc[-1] - curr[\"timestamp\"].iloc[0]).seconds\n",
    "        sec = (curr[\"timestamp\"][-1] - curr[\"timestamp\"][0]).seconds\n",
    "        duration.append(sec) \n",
    "print(\"Amount : \", len(duration))"
   ]
  },
  {
   "cell_type": "code",
   "execution_count": null,
   "id": "7be392c5",
   "metadata": {},
   "outputs": [],
   "source": []
  },
  {
   "cell_type": "code",
   "execution_count": null,
   "id": "dbfd00fd",
   "metadata": {},
   "outputs": [],
   "source": []
  }
 ],
 "metadata": {
  "kernelspec": {
   "display_name": "Python 3 (ipykernel)",
   "language": "python",
   "name": "python3"
  },
  "language_info": {
   "codemirror_mode": {
    "name": "ipython",
    "version": 3
   },
   "file_extension": ".py",
   "mimetype": "text/x-python",
   "name": "python",
   "nbconvert_exporter": "python",
   "pygments_lexer": "ipython3",
   "version": "3.9.13"
  }
 },
 "nbformat": 4,
 "nbformat_minor": 5
}
